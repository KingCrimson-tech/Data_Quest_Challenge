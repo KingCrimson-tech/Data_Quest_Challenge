{
 "cells": [
  {
   "cell_type": "code",
   "execution_count": 5,
   "metadata": {},
   "outputs": [],
   "source": [
    "import pandas as pd\n",
    "import numpy as np\n",
    "import re"
   ]
  },
  {
   "cell_type": "code",
   "execution_count": 6,
   "metadata": {},
   "outputs": [],
   "source": [
    "df = pd.read_csv('../data/users.csv')"
   ]
  },
  {
   "cell_type": "markdown",
   "metadata": {},
   "source": [
    "#Removing the duplicates"
   ]
  },
  {
   "cell_type": "code",
   "execution_count": 7,
   "metadata": {},
   "outputs": [
    {
     "data": {
      "text/plain": [
       "(2051, 6)"
      ]
     },
     "execution_count": 7,
     "metadata": {},
     "output_type": "execute_result"
    }
   ],
   "source": [
    "df.shape"
   ]
  },
  {
   "cell_type": "code",
   "execution_count": 8,
   "metadata": {},
   "outputs": [],
   "source": [
    "df = df.drop_duplicates(subset=['user_id'])"
   ]
  },
  {
   "cell_type": "code",
   "execution_count": 9,
   "metadata": {},
   "outputs": [
    {
     "data": {
      "text/plain": [
       "(2001, 6)"
      ]
     },
     "execution_count": 9,
     "metadata": {},
     "output_type": "execute_result"
    }
   ],
   "source": [
    "df.shape"
   ]
  },
  {
   "cell_type": "markdown",
   "metadata": {},
   "source": [
    "#Handling missing values"
   ]
  },
  {
   "cell_type": "code",
   "execution_count": 10,
   "metadata": {},
   "outputs": [
    {
     "data": {
      "text/plain": [
       "user_id     0\n",
       "name        0\n",
       "email      15\n",
       "age         0\n",
       "country     7\n",
       "date        0\n",
       "dtype: int64"
      ]
     },
     "execution_count": 10,
     "metadata": {},
     "output_type": "execute_result"
    }
   ],
   "source": [
    "df.isna().sum()"
   ]
  },
  {
   "cell_type": "code",
   "execution_count": 11,
   "metadata": {},
   "outputs": [
    {
     "data": {
      "text/plain": [
       "0        james.scott660@gmail.com\n",
       "1      sharon.ferrell49@gmail.com\n",
       "2      chelsea.ortiz643@gmail.com\n",
       "3    gregory.pearson379@gmail.com\n",
       "4    connie.gonzales481@gmail.com\n",
       "Name: email, dtype: object"
      ]
     },
     "execution_count": 11,
     "metadata": {},
     "output_type": "execute_result"
    }
   ],
   "source": [
    "df['email'].head()"
   ]
  },
  {
   "cell_type": "code",
   "execution_count": 12,
   "metadata": {},
   "outputs": [],
   "source": [
    "#we need some placeholder for the missing email so i have decide it to be missing@gmail.com\n",
    "df['email'] = df['email'].fillna('missing@gmail.com')"
   ]
  },
  {
   "cell_type": "code",
   "execution_count": 13,
   "metadata": {},
   "outputs": [
    {
     "data": {
      "text/plain": [
       "user_id    0\n",
       "name       0\n",
       "email      0\n",
       "age        0\n",
       "country    7\n",
       "date       0\n",
       "dtype: int64"
      ]
     },
     "execution_count": 13,
     "metadata": {},
     "output_type": "execute_result"
    }
   ],
   "source": [
    "df.isna().sum()"
   ]
  },
  {
   "cell_type": "code",
   "execution_count": 14,
   "metadata": {},
   "outputs": [
    {
     "data": {
      "text/plain": [
       "2046               XYZ\n",
       "2047     United States\n",
       "2048    United Kingdom\n",
       "2049    United Kingdom\n",
       "2050     United States\n",
       "Name: country, dtype: object"
      ]
     },
     "execution_count": 14,
     "metadata": {},
     "output_type": "execute_result"
    }
   ],
   "source": [
    "df['country'].tail()"
   ]
  },
  {
   "cell_type": "code",
   "execution_count": 15,
   "metadata": {},
   "outputs": [],
   "source": [
    "#The missing country value will be filled as Unknown\n",
    "df['country'] = df['country'].fillna('Unknown')"
   ]
  },
  {
   "cell_type": "code",
   "execution_count": 16,
   "metadata": {},
   "outputs": [
    {
     "data": {
      "text/plain": [
       "user_id    0\n",
       "name       0\n",
       "email      0\n",
       "age        0\n",
       "country    0\n",
       "date       0\n",
       "dtype: int64"
      ]
     },
     "execution_count": 16,
     "metadata": {},
     "output_type": "execute_result"
    }
   ],
   "source": [
    "df.isna().sum()"
   ]
  },
  {
   "cell_type": "markdown",
   "metadata": {},
   "source": [
    "#Invalid Emails"
   ]
  },
  {
   "cell_type": "code",
   "execution_count": 17,
   "metadata": {},
   "outputs": [
    {
     "name": "stdout",
     "output_type": "stream",
     "text": [
      "['..', 'joseph.young737@@gmail.com', '..', 'kelsey.holland341@@gmail.com', 'jill.berry972@gmail,com', 'lisa.heath.md932', 'user@@domain.com', 'kathryn.wood938@gmail,com', 'karen.brown272@@gmail.com', 'laura.soto528@@gmail.com', 'colleen.davidson850@@gmail.com', '@ gmailcom', ',com', 'gregory.craig691@@gmail.com', 'dataquest.com', 'user@@domain.com', 'dennis.bowers608@@gmail.com', 'cristina.fitzpatrick357@gmail,com', 'dataquest.com', 'laura.hernandez489', 'dataquest.com', 'rebecca.owens297@@gmail.com', 'phillip.walker.md633@gmail,com', 'karl.farrell964@@gmail.com', '..', 'curtis.larson610@gmail,com', 'david.jennings66@@gmail.com', 'user@@domain.com', 'omar.park.md513', 'dillon.ramirez.phd306', ',com', 'kristi.figueroa930@@gmail.com', 'christopher.hall784@gmail,com', 'notatsymbol.com', 'craig.smith698', 'nicole.hill568@gmail,com', '..']\n"
     ]
    }
   ],
   "source": [
    "#SO i just googled the regex for the valid email and it is r'^[a-zA-Z0-9._%+-]+@[a-zA-Z0-9.-]+\\.[a-zA-Z]{2,}$' and i need re library\n",
    "def valid(email):\n",
    "    p = r'^[a-zA-Z0-9._%+-]+@[a-zA-Z0-9.-]+\\.[a-zA-Z]{2,}$'\n",
    "    return bool(re.match(p, str(email)))\n",
    "\n",
    "df['invalid_email'] = ~df['email'].apply(valid)\n",
    "invalid_emails = df[df['invalid_email']]['email'].tolist() #reference\n",
    "print(invalid_emails)"
   ]
  },
  {
   "cell_type": "code",
   "execution_count": 18,
   "metadata": {},
   "outputs": [
    {
     "data": {
      "text/html": [
       "<div>\n",
       "<style scoped>\n",
       "    .dataframe tbody tr th:only-of-type {\n",
       "        vertical-align: middle;\n",
       "    }\n",
       "\n",
       "    .dataframe tbody tr th {\n",
       "        vertical-align: top;\n",
       "    }\n",
       "\n",
       "    .dataframe thead th {\n",
       "        text-align: right;\n",
       "    }\n",
       "</style>\n",
       "<table border=\"1\" class=\"dataframe\">\n",
       "  <thead>\n",
       "    <tr style=\"text-align: right;\">\n",
       "      <th></th>\n",
       "      <th>user_id</th>\n",
       "      <th>name</th>\n",
       "      <th>email</th>\n",
       "      <th>age</th>\n",
       "      <th>country</th>\n",
       "      <th>date</th>\n",
       "      <th>invalid_email</th>\n",
       "    </tr>\n",
       "  </thead>\n",
       "  <tbody>\n",
       "    <tr>\n",
       "      <th>0</th>\n",
       "      <td>15000</td>\n",
       "      <td>James Scott</td>\n",
       "      <td>james.scott660@gmail.com</td>\n",
       "      <td>35</td>\n",
       "      <td>India</td>\n",
       "      <td>2024-11-01</td>\n",
       "      <td>False</td>\n",
       "    </tr>\n",
       "    <tr>\n",
       "      <th>1</th>\n",
       "      <td>15001</td>\n",
       "      <td>Sharon Ferrell</td>\n",
       "      <td>sharon.ferrell49@gmail.com</td>\n",
       "      <td>26</td>\n",
       "      <td>Australia</td>\n",
       "      <td>2024-11-01</td>\n",
       "      <td>False</td>\n",
       "    </tr>\n",
       "    <tr>\n",
       "      <th>2</th>\n",
       "      <td>15002</td>\n",
       "      <td>Chelsea Ortiz</td>\n",
       "      <td>chelsea.ortiz643@gmail.com</td>\n",
       "      <td>38</td>\n",
       "      <td>United Kingdom</td>\n",
       "      <td>2024-11-01</td>\n",
       "      <td>False</td>\n",
       "    </tr>\n",
       "    <tr>\n",
       "      <th>3</th>\n",
       "      <td>15003</td>\n",
       "      <td>Gregory Pearson</td>\n",
       "      <td>gregory.pearson379@gmail.com</td>\n",
       "      <td>52</td>\n",
       "      <td>United Kingdom</td>\n",
       "      <td>2024-11-01</td>\n",
       "      <td>False</td>\n",
       "    </tr>\n",
       "    <tr>\n",
       "      <th>4</th>\n",
       "      <td>15004</td>\n",
       "      <td>Connie Gonzales</td>\n",
       "      <td>connie.gonzales481@gmail.com</td>\n",
       "      <td>43</td>\n",
       "      <td>Australia</td>\n",
       "      <td>2024-11-01</td>\n",
       "      <td>False</td>\n",
       "    </tr>\n",
       "    <tr>\n",
       "      <th>...</th>\n",
       "      <td>...</td>\n",
       "      <td>...</td>\n",
       "      <td>...</td>\n",
       "      <td>...</td>\n",
       "      <td>...</td>\n",
       "      <td>...</td>\n",
       "      <td>...</td>\n",
       "    </tr>\n",
       "    <tr>\n",
       "      <th>2046</th>\n",
       "      <td>16996</td>\n",
       "      <td>Erin Jacobs</td>\n",
       "      <td>erin.jacobs381@gmail.com</td>\n",
       "      <td>26</td>\n",
       "      <td>XYZ</td>\n",
       "      <td>2025-01-30</td>\n",
       "      <td>False</td>\n",
       "    </tr>\n",
       "    <tr>\n",
       "      <th>2047</th>\n",
       "      <td>16997</td>\n",
       "      <td>Deanna Randolph</td>\n",
       "      <td>deanna.randolph420@gmail.com</td>\n",
       "      <td>27</td>\n",
       "      <td>United States</td>\n",
       "      <td>2025-01-30</td>\n",
       "      <td>False</td>\n",
       "    </tr>\n",
       "    <tr>\n",
       "      <th>2048</th>\n",
       "      <td>16998</td>\n",
       "      <td>Brandon Jacobs</td>\n",
       "      <td>brandon.jacobs266@gmail.com</td>\n",
       "      <td>21</td>\n",
       "      <td>United Kingdom</td>\n",
       "      <td>2025-01-30</td>\n",
       "      <td>False</td>\n",
       "    </tr>\n",
       "    <tr>\n",
       "      <th>2049</th>\n",
       "      <td>16999</td>\n",
       "      <td>Frederick Bell</td>\n",
       "      <td>frederick.bell509@gmail.com</td>\n",
       "      <td>60</td>\n",
       "      <td>United Kingdom</td>\n",
       "      <td>2025-01-30</td>\n",
       "      <td>False</td>\n",
       "    </tr>\n",
       "    <tr>\n",
       "      <th>2050</th>\n",
       "      <td>17000</td>\n",
       "      <td>Jane Ramirez</td>\n",
       "      <td>jane.ramirez381@gmail.com</td>\n",
       "      <td>30</td>\n",
       "      <td>United States</td>\n",
       "      <td>2025-01-30</td>\n",
       "      <td>False</td>\n",
       "    </tr>\n",
       "  </tbody>\n",
       "</table>\n",
       "<p>2001 rows × 7 columns</p>\n",
       "</div>"
      ],
      "text/plain": [
       "      user_id             name                         email  age  \\\n",
       "0       15000      James Scott      james.scott660@gmail.com   35   \n",
       "1       15001   Sharon Ferrell    sharon.ferrell49@gmail.com   26   \n",
       "2       15002    Chelsea Ortiz    chelsea.ortiz643@gmail.com   38   \n",
       "3       15003  Gregory Pearson  gregory.pearson379@gmail.com   52   \n",
       "4       15004  Connie Gonzales  connie.gonzales481@gmail.com   43   \n",
       "...       ...              ...                           ...  ...   \n",
       "2046    16996      Erin Jacobs      erin.jacobs381@gmail.com   26   \n",
       "2047    16997  Deanna Randolph  deanna.randolph420@gmail.com   27   \n",
       "2048    16998   Brandon Jacobs   brandon.jacobs266@gmail.com   21   \n",
       "2049    16999   Frederick Bell   frederick.bell509@gmail.com   60   \n",
       "2050    17000     Jane Ramirez     jane.ramirez381@gmail.com   30   \n",
       "\n",
       "             country        date  invalid_email  \n",
       "0              India  2024-11-01          False  \n",
       "1          Australia  2024-11-01          False  \n",
       "2     United Kingdom  2024-11-01          False  \n",
       "3     United Kingdom  2024-11-01          False  \n",
       "4          Australia  2024-11-01          False  \n",
       "...              ...         ...            ...  \n",
       "2046             XYZ  2025-01-30          False  \n",
       "2047   United States  2025-01-30          False  \n",
       "2048  United Kingdom  2025-01-30          False  \n",
       "2049  United Kingdom  2025-01-30          False  \n",
       "2050   United States  2025-01-30          False  \n",
       "\n",
       "[2001 rows x 7 columns]"
      ]
     },
     "execution_count": 18,
     "metadata": {},
     "output_type": "execute_result"
    }
   ],
   "source": [
    "df"
   ]
  },
  {
   "cell_type": "markdown",
   "metadata": {},
   "source": [
    "#Age anomalies"
   ]
  },
  {
   "cell_type": "code",
   "execution_count": 19,
   "metadata": {},
   "outputs": [],
   "source": [
    "df['suspicious_age'] = (df['age'] < 0) | (df['age'] > 100)"
   ]
  },
  {
   "cell_type": "code",
   "execution_count": 20,
   "metadata": {},
   "outputs": [
    {
     "data": {
      "text/html": [
       "<div>\n",
       "<style scoped>\n",
       "    .dataframe tbody tr th:only-of-type {\n",
       "        vertical-align: middle;\n",
       "    }\n",
       "\n",
       "    .dataframe tbody tr th {\n",
       "        vertical-align: top;\n",
       "    }\n",
       "\n",
       "    .dataframe thead th {\n",
       "        text-align: right;\n",
       "    }\n",
       "</style>\n",
       "<table border=\"1\" class=\"dataframe\">\n",
       "  <thead>\n",
       "    <tr style=\"text-align: right;\">\n",
       "      <th></th>\n",
       "      <th>user_id</th>\n",
       "      <th>name</th>\n",
       "      <th>email</th>\n",
       "      <th>age</th>\n",
       "      <th>country</th>\n",
       "      <th>date</th>\n",
       "      <th>invalid_email</th>\n",
       "      <th>suspicious_age</th>\n",
       "    </tr>\n",
       "  </thead>\n",
       "  <tbody>\n",
       "    <tr>\n",
       "      <th>0</th>\n",
       "      <td>15000</td>\n",
       "      <td>James Scott</td>\n",
       "      <td>james.scott660@gmail.com</td>\n",
       "      <td>35</td>\n",
       "      <td>India</td>\n",
       "      <td>2024-11-01</td>\n",
       "      <td>False</td>\n",
       "      <td>False</td>\n",
       "    </tr>\n",
       "    <tr>\n",
       "      <th>1</th>\n",
       "      <td>15001</td>\n",
       "      <td>Sharon Ferrell</td>\n",
       "      <td>sharon.ferrell49@gmail.com</td>\n",
       "      <td>26</td>\n",
       "      <td>Australia</td>\n",
       "      <td>2024-11-01</td>\n",
       "      <td>False</td>\n",
       "      <td>False</td>\n",
       "    </tr>\n",
       "    <tr>\n",
       "      <th>2</th>\n",
       "      <td>15002</td>\n",
       "      <td>Chelsea Ortiz</td>\n",
       "      <td>chelsea.ortiz643@gmail.com</td>\n",
       "      <td>38</td>\n",
       "      <td>United Kingdom</td>\n",
       "      <td>2024-11-01</td>\n",
       "      <td>False</td>\n",
       "      <td>False</td>\n",
       "    </tr>\n",
       "    <tr>\n",
       "      <th>3</th>\n",
       "      <td>15003</td>\n",
       "      <td>Gregory Pearson</td>\n",
       "      <td>gregory.pearson379@gmail.com</td>\n",
       "      <td>52</td>\n",
       "      <td>United Kingdom</td>\n",
       "      <td>2024-11-01</td>\n",
       "      <td>False</td>\n",
       "      <td>False</td>\n",
       "    </tr>\n",
       "    <tr>\n",
       "      <th>4</th>\n",
       "      <td>15004</td>\n",
       "      <td>Connie Gonzales</td>\n",
       "      <td>connie.gonzales481@gmail.com</td>\n",
       "      <td>43</td>\n",
       "      <td>Australia</td>\n",
       "      <td>2024-11-01</td>\n",
       "      <td>False</td>\n",
       "      <td>False</td>\n",
       "    </tr>\n",
       "    <tr>\n",
       "      <th>...</th>\n",
       "      <td>...</td>\n",
       "      <td>...</td>\n",
       "      <td>...</td>\n",
       "      <td>...</td>\n",
       "      <td>...</td>\n",
       "      <td>...</td>\n",
       "      <td>...</td>\n",
       "      <td>...</td>\n",
       "    </tr>\n",
       "    <tr>\n",
       "      <th>2046</th>\n",
       "      <td>16996</td>\n",
       "      <td>Erin Jacobs</td>\n",
       "      <td>erin.jacobs381@gmail.com</td>\n",
       "      <td>26</td>\n",
       "      <td>XYZ</td>\n",
       "      <td>2025-01-30</td>\n",
       "      <td>False</td>\n",
       "      <td>False</td>\n",
       "    </tr>\n",
       "    <tr>\n",
       "      <th>2047</th>\n",
       "      <td>16997</td>\n",
       "      <td>Deanna Randolph</td>\n",
       "      <td>deanna.randolph420@gmail.com</td>\n",
       "      <td>27</td>\n",
       "      <td>United States</td>\n",
       "      <td>2025-01-30</td>\n",
       "      <td>False</td>\n",
       "      <td>False</td>\n",
       "    </tr>\n",
       "    <tr>\n",
       "      <th>2048</th>\n",
       "      <td>16998</td>\n",
       "      <td>Brandon Jacobs</td>\n",
       "      <td>brandon.jacobs266@gmail.com</td>\n",
       "      <td>21</td>\n",
       "      <td>United Kingdom</td>\n",
       "      <td>2025-01-30</td>\n",
       "      <td>False</td>\n",
       "      <td>False</td>\n",
       "    </tr>\n",
       "    <tr>\n",
       "      <th>2049</th>\n",
       "      <td>16999</td>\n",
       "      <td>Frederick Bell</td>\n",
       "      <td>frederick.bell509@gmail.com</td>\n",
       "      <td>60</td>\n",
       "      <td>United Kingdom</td>\n",
       "      <td>2025-01-30</td>\n",
       "      <td>False</td>\n",
       "      <td>False</td>\n",
       "    </tr>\n",
       "    <tr>\n",
       "      <th>2050</th>\n",
       "      <td>17000</td>\n",
       "      <td>Jane Ramirez</td>\n",
       "      <td>jane.ramirez381@gmail.com</td>\n",
       "      <td>30</td>\n",
       "      <td>United States</td>\n",
       "      <td>2025-01-30</td>\n",
       "      <td>False</td>\n",
       "      <td>False</td>\n",
       "    </tr>\n",
       "  </tbody>\n",
       "</table>\n",
       "<p>2001 rows × 8 columns</p>\n",
       "</div>"
      ],
      "text/plain": [
       "      user_id             name                         email  age  \\\n",
       "0       15000      James Scott      james.scott660@gmail.com   35   \n",
       "1       15001   Sharon Ferrell    sharon.ferrell49@gmail.com   26   \n",
       "2       15002    Chelsea Ortiz    chelsea.ortiz643@gmail.com   38   \n",
       "3       15003  Gregory Pearson  gregory.pearson379@gmail.com   52   \n",
       "4       15004  Connie Gonzales  connie.gonzales481@gmail.com   43   \n",
       "...       ...              ...                           ...  ...   \n",
       "2046    16996      Erin Jacobs      erin.jacobs381@gmail.com   26   \n",
       "2047    16997  Deanna Randolph  deanna.randolph420@gmail.com   27   \n",
       "2048    16998   Brandon Jacobs   brandon.jacobs266@gmail.com   21   \n",
       "2049    16999   Frederick Bell   frederick.bell509@gmail.com   60   \n",
       "2050    17000     Jane Ramirez     jane.ramirez381@gmail.com   30   \n",
       "\n",
       "             country        date  invalid_email  suspicious_age  \n",
       "0              India  2024-11-01          False           False  \n",
       "1          Australia  2024-11-01          False           False  \n",
       "2     United Kingdom  2024-11-01          False           False  \n",
       "3     United Kingdom  2024-11-01          False           False  \n",
       "4          Australia  2024-11-01          False           False  \n",
       "...              ...         ...            ...             ...  \n",
       "2046             XYZ  2025-01-30          False           False  \n",
       "2047   United States  2025-01-30          False           False  \n",
       "2048  United Kingdom  2025-01-30          False           False  \n",
       "2049  United Kingdom  2025-01-30          False           False  \n",
       "2050   United States  2025-01-30          False           False  \n",
       "\n",
       "[2001 rows x 8 columns]"
      ]
     },
     "execution_count": 20,
     "metadata": {},
     "output_type": "execute_result"
    }
   ],
   "source": [
    "df"
   ]
  },
  {
   "cell_type": "code",
   "execution_count": 21,
   "metadata": {},
   "outputs": [
    {
     "name": "stdout",
     "output_type": "stream",
     "text": [
      "[[15006, 'Kristina Thomas', 151], [15109, 'Lisa Mccall', 154], [15310, 'Courtney Howard', 154], [15411, 'Terry Garrison', -5], [15446, 'Leslie Williams', 151], [15480, 'Patricia Wilkerson', 153], [15499, 'Charles Roberts', -5], [15733, 'Tammy Nash', 152], [15890, 'Michael Kelley', 153], [15922, 'Eric Pearson', 153], [15998, 'Mary Ingram', -5], [16167, 'Brian Farmer', 152], [16498, 'Alison Kerr', 152], [16820, 'Samantha Martinez', 154], [16826, 'Vanessa Taylor', 151], [16846, 'Daniel Singleton', 152], [16902, 'Linda Miller', 153], [16917, 'James Ruiz', 153]]\n"
     ]
    }
   ],
   "source": [
    "suspicious_ages = df[df['suspicious_age']][['user_id', 'name', 'age']].values.tolist() #reference\n",
    "print(suspicious_ages)"
   ]
  },
  {
   "cell_type": "code",
   "execution_count": 22,
   "metadata": {},
   "outputs": [],
   "source": [
    "#one way to fix is making all the negative ages to 0 and setting an upper bound of age to 100\n",
    "df.loc[df['age'] < 0, 'age'] = abs(df.loc[df['age'] < 0, 'age'])"
   ]
  },
  {
   "cell_type": "code",
   "execution_count": 23,
   "metadata": {},
   "outputs": [],
   "source": [
    "df.loc[df['age'] > 100, 'age'] = 100"
   ]
  },
  {
   "cell_type": "markdown",
   "metadata": {},
   "source": [
    "#Datatypes"
   ]
  },
  {
   "cell_type": "code",
   "execution_count": 24,
   "metadata": {},
   "outputs": [
    {
     "data": {
      "text/plain": [
       "user_id            int64\n",
       "name              object\n",
       "email             object\n",
       "age                int64\n",
       "country           object\n",
       "date              object\n",
       "invalid_email       bool\n",
       "suspicious_age      bool\n",
       "dtype: object"
      ]
     },
     "execution_count": 24,
     "metadata": {},
     "output_type": "execute_result"
    }
   ],
   "source": [
    "df.dtypes"
   ]
  },
  {
   "cell_type": "code",
   "execution_count": 25,
   "metadata": {},
   "outputs": [],
   "source": [
    "#changes are email to str country to str adn date to datetime format\n",
    "df['email'] = df['email'].astype(str)\n",
    "df['country'] = df['country'].astype(str)\n",
    "df['date'] = pd.to_datetime(df['date'], errors='coerce')"
   ]
  },
  {
   "cell_type": "code",
   "execution_count": 26,
   "metadata": {},
   "outputs": [
    {
     "name": "stdout",
     "output_type": "stream",
     "text": [
      "91\n"
     ]
    }
   ],
   "source": [
    "#I notice there are many users on the same date\n",
    "unique_dates = df['date'].nunique()\n",
    "print(unique_dates)"
   ]
  },
  {
   "cell_type": "code",
   "execution_count": 27,
   "metadata": {},
   "outputs": [
    {
     "data": {
      "text/plain": [
       "user_id                    int64\n",
       "name                      object\n",
       "email                     object\n",
       "age                        int64\n",
       "country                   object\n",
       "date              datetime64[ns]\n",
       "invalid_email               bool\n",
       "suspicious_age              bool\n",
       "dtype: object"
      ]
     },
     "execution_count": 27,
     "metadata": {},
     "output_type": "execute_result"
    }
   ],
   "source": [
    "df.dtypes"
   ]
  },
  {
   "cell_type": "markdown",
   "metadata": {},
   "source": [
    "#Validating Countries"
   ]
  },
  {
   "cell_type": "code",
   "execution_count": 28,
   "metadata": {},
   "outputs": [],
   "source": [
    "valid_countries = [\n",
    "    'Afghanistan', 'Albania', 'Algeria', 'Andorra', 'Angola', 'Antigua and Barbuda', \n",
    "    'Argentina', 'Armenia', 'Australia', 'Austria', 'Azerbaijan', 'Bahamas', 'Bahrain', \n",
    "    'Bangladesh', 'Barbados', 'Belarus', 'Belgium', 'Belize', 'Benin', 'Bhutan', \n",
    "    'Bolivia', 'Bosnia and Herzegovina', 'Botswana', 'Brazil', 'Brunei', 'Bulgaria', \n",
    "    'Burkina Faso', 'Burundi', 'Cabo Verde', 'Cambodia', 'Cameroon', 'Canada', \n",
    "    'Central African Republic', 'Chad', 'Chile', 'China', 'Colombia', 'Comoros', \n",
    "    'Congo', 'Costa Rica', 'Croatia', 'Cuba', 'Cyprus', 'Czech Republic', 'Denmark', \n",
    "    'Djibouti', 'Dominica', 'Dominican Republic', 'Ecuador', 'Egypt', 'El Salvador', \n",
    "    'Equatorial Guinea', 'Eritrea', 'Estonia', 'Eswatini', 'Ethiopia', 'Fiji', \n",
    "    'Finland', 'France', 'Gabon', 'Gambia', 'Georgia', 'Germany', 'Ghana', 'Greece', \n",
    "    'Grenada', 'Guatemala', 'Guinea', 'Guinea-Bissau', 'Guyana', 'Haiti', 'Honduras', \n",
    "    'Hungary', 'Iceland', 'India', 'Indonesia', 'Iran', 'Iraq', 'Ireland', 'Israel', \n",
    "    'Italy', 'Jamaica', 'Japan', 'Jordan', 'Kazakhstan', 'Kenya', 'Kiribati', \n",
    "    'Korea, North', 'Korea, South', 'Kosovo', 'Kuwait', 'Kyrgyzstan', 'Laos', 'Latvia', \n",
    "    'Lebanon', 'Lesotho', 'Liberia', 'Libya', 'Liechtenstein', 'Lithuania', 'Luxembourg', \n",
    "    'Madagascar', 'Malawi', 'Malaysia', 'Maldives', 'Mali', 'Malta', 'Marshall Islands', \n",
    "    'Mauritania', 'Mauritius', 'Mexico', 'Micronesia', 'Moldova', 'Monaco', 'Mongolia', \n",
    "    'Montenegro', 'Morocco', 'Mozambique', 'Myanmar', 'Namibia', 'Nauru', 'Nepal', \n",
    "    'Netherlands', 'New Zealand', 'Nicaragua', 'Niger', 'Nigeria', 'North Macedonia', \n",
    "    'Norway', 'Oman', 'Pakistan', 'Palau', 'Palestine', 'Panama', 'Papua New Guinea', \n",
    "    'Paraguay', 'Peru', 'Philippines', 'Poland', 'Portugal', 'Qatar', 'Romania', \n",
    "    'Russia', 'Rwanda', 'Saint Kitts and Nevis', 'Saint Lucia', \n",
    "    'Saint Vincent and the Grenadines', 'Samoa', 'San Marino', 'Sao Tome and Principe', \n",
    "    'Saudi Arabia', 'Senegal', 'Serbia', 'Seychelles', 'Sierra Leone', 'Singapore', \n",
    "    'Slovakia', 'Slovenia', 'Solomon Islands', 'Somalia', 'South Africa', 'South Sudan', \n",
    "    'Spain', 'Sri Lanka', 'Sudan', 'Suriname', 'Sweden', 'Switzerland', 'Syria', \n",
    "    'Taiwan', 'Tajikistan', 'Tanzania', 'Thailand', 'Timor-Leste', 'Togo', 'Tonga', \n",
    "    'Trinidad and Tobago', 'Tunisia', 'Turkey', 'Turkmenistan', 'Tuvalu', 'Uganda', \n",
    "    'Ukraine', 'United Arab Emirates', 'United Kingdom', 'United States', 'Uruguay', \n",
    "    'Uzbekistan', 'Vanuatu', 'Vatican City', 'Venezuela', 'Vietnam', 'Yemen', 'Zambia', \n",
    "    'Zimbabwe'\n",
    "]\n",
    "\n",
    "#as a countermeasure i also use country alias\n",
    "country_aliases = {\n",
    "    'USA': 'United States',\n",
    "    'US': 'United States',\n",
    "    'U.S.': 'United States',\n",
    "    'U.S.A.': 'United States',\n",
    "    'America': 'United States',\n",
    "    'UK': 'United Kingdom',\n",
    "    'U.K.': 'United Kingdom',\n",
    "    'Britain': 'United Kingdom',\n",
    "    'Great Britain': 'United Kingdom',\n",
    "    'England': 'United Kingdom',\n",
    "    'UAE': 'United Arab Emirates',\n",
    "    'U.A.E.': 'United Arab Emirates',\n",
    "    'South Korea': 'Korea, South',\n",
    "    'North Korea': 'Korea, North',\n",
    "    'Macedonia': 'North Macedonia',\n",
    "    'Congo-Brazzaville': 'Congo',\n",
    "    'Congo-Kinshasa': 'Congo',\n",
    "    'Democratic Republic of the Congo': 'Congo',\n",
    "    'DRC': 'Congo',\n",
    "    'Swaziland': 'Eswatini',\n",
    "    'Burma': 'Myanmar'\n",
    "}"
   ]
  },
  {
   "cell_type": "code",
   "execution_count": 29,
   "metadata": {},
   "outputs": [],
   "source": [
    "valid_countries_set = set(valid_countries + list(country_aliases.keys()))\n",
    "def standardize(country):\n",
    "    if country in country_aliases:\n",
    "        return country_aliases[country]\n",
    "    return country\n",
    "df['country'] = df['country'].apply(standardize)"
   ]
  },
  {
   "cell_type": "code",
   "execution_count": 30,
   "metadata": {},
   "outputs": [],
   "source": [
    "df['invalid_country'] = ~df['country'].isin(valid_countries_set)"
   ]
  },
  {
   "cell_type": "code",
   "execution_count": 31,
   "metadata": {},
   "outputs": [
    {
     "name": "stdout",
     "output_type": "stream",
     "text": [
      "['XYZ', 'Unknown', 'palistan', 'shingePore', 'mars', 'ruSSUa', 'INDi', 'Datopia', 'uSa']\n"
     ]
    }
   ],
   "source": [
    "invalid_countries = df[df['invalid_country']]['country'].unique().tolist() #reference\n",
    "print(invalid_countries)"
   ]
  },
  {
   "cell_type": "code",
   "execution_count": 32,
   "metadata": {},
   "outputs": [],
   "source": [
    "df.to_csv('users.csv', index=False)"
   ]
  },
  {
   "cell_type": "code",
   "execution_count": null,
   "metadata": {},
   "outputs": [],
   "source": []
  }
 ],
 "metadata": {
  "kernelspec": {
   "display_name": "Python 3",
   "language": "python",
   "name": "python3"
  },
  "language_info": {
   "codemirror_mode": {
    "name": "ipython",
    "version": 3
   },
   "file_extension": ".py",
   "mimetype": "text/x-python",
   "name": "python",
   "nbconvert_exporter": "python",
   "pygments_lexer": "ipython3",
   "version": "3.12.6"
  }
 },
 "nbformat": 4,
 "nbformat_minor": 2
}
